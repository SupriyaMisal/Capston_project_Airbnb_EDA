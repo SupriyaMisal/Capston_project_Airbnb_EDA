{
  "nbformat": 4,
  "nbformat_minor": 0,
  "metadata": {
    "colab": {
      "private_outputs": true,
      "provenance": [],
      "collapsed_sections": [
        "gIfDvo9L0UH2"
      ]
    },
    "kernelspec": {
      "name": "python3",
      "display_name": "Python 3"
    },
    "language_info": {
      "name": "python"
    }
  },
  "cells": [
    {
      "cell_type": "markdown",
      "source": [
        "# **Project Name**    -\n",
        "\n"
      ],
      "metadata": {
        "id": "vncDsAP0Gaoa"
      }
    },
    {
      "cell_type": "markdown",
      "source": [
        "##### **Project Type**    - EDA/Regression/Classification/Unsupervised\n",
        "##### **Contribution**    - Individual\n",
        "##### **Name- Supriya Misal**\n"
      ],
      "metadata": {
        "id": "beRrZCGUAJYm"
      }
    },
    {
      "cell_type": "markdown",
      "source": [
        "# **Project Summary -**"
      ],
      "metadata": {
        "id": "FJNUwmbgGyua"
      }
    },
    {
      "cell_type": "markdown",
      "source": [
        "\n",
        "Project Overview:\n",
        "The objective of this project is to analyze Airbnb's New York City (NYC) dataset from 2019 to gain insights into the key metrics that influence property listings on the platform. NYC is a global tourist hotspot known for its museums, entertainment, restaurants, and commerce, making it a significant market for Airbnb. Through basic exploratory data analysis (EDA) techniques, we aim to understand the distribution of Airbnb listings based on their location, price range, room type, listing name, and other related factors.\n",
        "\n",
        "Key Objectives:\n",
        "\n",
        "Explore and visualize the Airbnb dataset for NYC.\n",
        "Identify and analyze key metrics that influence property listings on Airbnb.\n",
        "Provide insights into the distribution of listings based on location, price, room type, and listing attributes.\n",
        "Offer recommendations or insights that could be valuable for Airbnb as a company.\n",
        "Project Components:\n",
        "\n",
        "Data Collection: Gather the Airbnb NYC dataset from 2019, including information on listings, reviews, host details, and geographic data.\n",
        "\n",
        "Data Cleaning: Preprocess the dataset to handle missing values, outliers, and inconsistencies to ensure data quality.\n",
        "\n",
        "Exploratory Data Analysis (EDA): Conduct basic EDA techniques, including summary statistics, data visualizations, and correlations, to understand the dataset's characteristics and identify trends and patterns.\n",
        "\n",
        "Location Analysis: Analyze the geographic distribution of Airbnb listings in NYC, including popular neighborhoods, boroughs, and their respective property types.\n",
        "\n",
        "Price Range Analysis: Investigate the pricing patterns of Airbnb listings, including factors affecting price variations, such as location, room type, and property attributes.\n",
        "\n",
        "Room Type Analysis: Examine the distribution of different room types (e.g., entire homes, private rooms, shared rooms) on the platform.\n",
        "\n",
        "Listing Name Analysis: Analyze the impact of listing names and descriptions on listing popularity and pricing.\n"
      ],
      "metadata": {
        "id": "F6v_1wHtG2nS"
      }
    },
    {
      "cell_type": "markdown",
      "source": [
        "# **GitHub Link -**"
      ],
      "metadata": {
        "id": "w6K7xa23Elo4"
      }
    },
    {
      "cell_type": "markdown",
      "source": [
        "https://github.com/SupriyaMisal/Capston_project_Airbnb_EDA/tree/8d51914eeac31ab0e2c0cb466db87839c44c8fee"
      ],
      "metadata": {
        "id": "h1o69JH3Eqqn"
      }
    },
    {
      "cell_type": "markdown",
      "source": [
        "# **Problem Statement**\n"
      ],
      "metadata": {
        "id": "yQaldy8SH6Dl"
      }
    },
    {
      "cell_type": "markdown",
      "source": [
        "In an era where data-driven insights drive business success, Airbnb, a leading online marketplace for lodging and travel experiences, seeks to harness the wealth of historical booking data at its disposal to enhance the experiences of both hosts and guests. This project endeavors to conduct a comprehensive Exploratory Data Analysis (EDA) on Airbnb's booking data with the objective of uncovering valuable insights and addressing key questions to optimize the platform's operations and bolster customer and host satisfaction.\""
      ],
      "metadata": {
        "id": "DpeJGUA3kjGy"
      }
    },
    {
      "cell_type": "markdown",
      "source": [
        "#### **Define Your Business Objective?**"
      ],
      "metadata": {
        "id": "PH-0ReGfmX4f"
      }
    },
    {
      "cell_type": "markdown",
      "source": [
        "\n",
        "\"Enhancing Airbnb Experiences Through Data Analysis\""
      ],
      "metadata": {
        "id": "PhDvGCAqmjP1"
      }
    },
    {
      "cell_type": "markdown",
      "source": [
        "# **General Guidelines** : -  "
      ],
      "metadata": {
        "id": "mDgbUHAGgjLW"
      }
    },
    {
      "cell_type": "markdown",
      "source": [
        "1.   Well-structured, formatted, and commented code is required.\n",
        "2.   Exception Handling, Production Grade Code & Deployment Ready Code will be a plus. Those students will be awarded some additional credits.\n",
        "     \n",
        "     The additional credits will have advantages over other students during Star Student selection.\n",
        "       \n",
        "             [ Note: - Deployment Ready Code is defined as, the whole .ipynb notebook should be executable in one go\n",
        "                       without a single error logged. ]\n",
        "\n",
        "3.   Each and every logic should have proper comments.\n",
        "4. You may add as many number of charts you want. Make Sure for each and every chart the following format should be answered.\n",
        "        \n",
        "\n",
        "```\n",
        "# Chart visualization code\n",
        "```\n",
        "            \n",
        "\n",
        "*   Why did you pick the specific chart?\n",
        "*   What is/are the insight(s) found from the chart?\n",
        "* Will the gained insights help creating a positive business impact?\n",
        "Are there any insights that lead to negative growth? Justify with specific reason.\n",
        "\n",
        "5. You have to create at least 20 logical & meaningful charts having important insights.\n",
        "\n",
        "\n",
        "[ Hints : - Do the Vizualization in  a structured way while following \"UBM\" Rule.\n",
        "\n",
        "U - Univariate Analysis,\n",
        "\n",
        "B - Bivariate Analysis (Numerical - Categorical, Numerical - Numerical, Categorical - Categorical)\n",
        "\n",
        "M - Multivariate Analysis\n",
        " ]\n",
        "\n",
        "\n",
        "\n"
      ],
      "metadata": {
        "id": "ZrxVaUj-hHfC"
      }
    },
    {
      "cell_type": "markdown",
      "source": [
        "# ***Let's Begin !***"
      ],
      "metadata": {
        "id": "O_i_v8NEhb9l"
      }
    },
    {
      "cell_type": "markdown",
      "source": [
        "## ***1. Know Your Data***"
      ],
      "metadata": {
        "id": "HhfV-JJviCcP"
      }
    },
    {
      "cell_type": "markdown",
      "source": [
        "### Import Libraries"
      ],
      "metadata": {
        "id": "Y3lxredqlCYt"
      }
    },
    {
      "cell_type": "code",
      "source": [
        "import pandas as pd\n",
        "import numpy as np\n",
        "import seaborn as sns\n",
        "import matplotlib.pyplot as plt"
      ],
      "metadata": {
        "id": "M8Vqi-pPk-HR"
      },
      "execution_count": null,
      "outputs": []
    },
    {
      "cell_type": "markdown",
      "source": [
        "### Dataset Loading"
      ],
      "metadata": {
        "id": "3RnN4peoiCZX"
      }
    },
    {
      "cell_type": "code",
      "source": [
        "\n",
        "from google.colab import drive\n",
        "drive.mount('/content/drive')\n",
        "path = '/content/drive/MyDrive/Data Sets/Airbnb NYC 2019.csv'  ##Paste the filepath to imdb dataset you downloaded previously.\n",
        "airbnb_df=pd.read_csv(path)\n"
      ],
      "metadata": {
        "id": "4CkvbW_SlZ_R"
      },
      "execution_count": null,
      "outputs": []
    },
    {
      "cell_type": "markdown",
      "source": [
        "### Dataset First View"
      ],
      "metadata": {
        "id": "x71ZqKXriCWQ"
      }
    },
    {
      "cell_type": "code",
      "source": [
        "airbnb_df.head()"
      ],
      "metadata": {
        "id": "LWNFOSvLl09H"
      },
      "execution_count": null,
      "outputs": []
    },
    {
      "cell_type": "markdown",
      "source": [
        "### Dataset Rows & Columns count"
      ],
      "metadata": {
        "id": "7hBIi_osiCS2"
      }
    },
    {
      "cell_type": "code",
      "source": [
        "airbnb_df.shape"
      ],
      "metadata": {
        "id": "Kllu7SJgmLij"
      },
      "execution_count": null,
      "outputs": []
    },
    {
      "cell_type": "markdown",
      "source": [
        "### Dataset Information"
      ],
      "metadata": {
        "id": "JlHwYmJAmNHm"
      }
    },
    {
      "cell_type": "code",
      "source": [
        "airbnb_df.info()"
      ],
      "metadata": {
        "id": "e9hRXRi6meOf"
      },
      "execution_count": null,
      "outputs": []
    },
    {
      "cell_type": "markdown",
      "source": [
        "#### Duplicate Values"
      ],
      "metadata": {
        "id": "35m5QtbWiB9F"
      }
    },
    {
      "cell_type": "code",
      "source": [
        "len(airbnb_df[airbnb_df.duplicated()])"
      ],
      "metadata": {
        "id": "QjVIVeG44czT"
      },
      "execution_count": null,
      "outputs": []
    },
    {
      "cell_type": "code",
      "source": [
        "airbnb_df.drop_duplicates(inplace=True)\n"
      ],
      "metadata": {
        "id": "1sLdpKYkmox0"
      },
      "execution_count": null,
      "outputs": []
    },
    {
      "cell_type": "markdown",
      "source": [
        "#### Missing Values/Null Values"
      ],
      "metadata": {
        "id": "PoPl-ycgm1ru"
      }
    },
    {
      "cell_type": "code",
      "source": [
        "missing_values = airbnb_df.isnull().sum()\n",
        "missing_values"
      ],
      "metadata": {
        "id": "lodpHd6e6HQ7"
      },
      "execution_count": null,
      "outputs": []
    },
    {
      "cell_type": "markdown",
      "source": [
        "Visualization of null values"
      ],
      "metadata": {
        "id": "Gnj_WZ0r6KOc"
      }
    },
    {
      "cell_type": "code",
      "source": [
        "import missingno as msno\n",
        "import matplotlib.pyplot as plt"
      ],
      "metadata": {
        "id": "oSKsv1jb80iF"
      },
      "execution_count": null,
      "outputs": []
    },
    {
      "cell_type": "code",
      "source": [
        "missing_values = airbnb_df.isnull().sum()\n",
        "\n",
        "# Create a missing value matrix using missingno\n",
        "msno.matrix(airbnb_df)\n",
        "\n",
        "# Add labels and show the plot\n",
        "plt.xlabel(\"Columns\")\n",
        "plt.ylabel(\"Rows\")\n",
        "plt.title(\"Missing Value Heatmap\")\n",
        "plt.show()"
      ],
      "metadata": {
        "id": "ztzEo5-dGRDU"
      },
      "execution_count": null,
      "outputs": []
    },
    {
      "cell_type": "markdown",
      "source": [
        "**Fill navalues with zero because 'last_review'and 'reviews_per_month'important column for data analysis and with 30% of null value.**"
      ],
      "metadata": {
        "id": "whR81DYcM5FZ"
      }
    },
    {
      "cell_type": "code",
      "source": [
        "airbnb_df.fillna(0,inplace=True)"
      ],
      "metadata": {
        "id": "zXz_v3OxMuLT"
      },
      "execution_count": null,
      "outputs": []
    },
    {
      "cell_type": "code",
      "source": [
        "missing_values = airbnb_df.isnull().sum()\n",
        "missing_values"
      ],
      "metadata": {
        "id": "zW_bJgzd_zLY"
      },
      "execution_count": null,
      "outputs": []
    },
    {
      "cell_type": "markdown",
      "source": [
        "### What did you know about your dataset?"
      ],
      "metadata": {
        "id": "H0kj-8xxnORC"
      }
    },
    {
      "cell_type": "markdown",
      "source": [
        "The dataset given is a dataset from airbnb company, and we have to analysis the booking details.\n",
        " collection of data related to listings, bookings, and other information from the Airbnb platform.\n",
        "\n",
        "The above dataset has 48895 rows and 16 columns. There are no mising values and duplicate values in the dataset."
      ],
      "metadata": {
        "id": "gfoNAAC-nUe_"
      }
    },
    {
      "cell_type": "markdown",
      "source": [
        "## ***2. Understanding Your Variables***"
      ],
      "metadata": {
        "id": "nA9Y7ga8ng1Z"
      }
    },
    {
      "cell_type": "code",
      "source": [
        "list(airbnb_df.columns)"
      ],
      "metadata": {
        "id": "j7xfkqrt5Ag5"
      },
      "execution_count": null,
      "outputs": []
    },
    {
      "cell_type": "code",
      "source": [
        "airbnb_df.describe()"
      ],
      "metadata": {
        "id": "DnOaZdaE5Q5t"
      },
      "execution_count": null,
      "outputs": []
    },
    {
      "cell_type": "markdown",
      "source": [
        "### Variables Description"
      ],
      "metadata": {
        "id": "PBTbrJXOngz2"
      }
    },
    {
      "cell_type": "markdown",
      "source": [
        "**id**:property name Id\n",
        "\n",
        "\n",
        "**name**:Property name\n",
        "\n",
        "**host_id**:Id of Host who run that property\n",
        "\n",
        "**host_name**:Host name\n",
        "\n",
        "**neighbourhood_group**: higher-level geographical grouping or categorization of neighborhoods.\n",
        "\n",
        "**neighbourhood**: locality where the property is located.\n",
        "\n",
        "**latitude** :This column contains numerical values representing the north-south position of the property.\n",
        "\n",
        "**longitude**:This column contains numerical values representing the  east-west  position of the property.\n",
        "\n",
        "**room_type:**:Entire home/apartment,Private room/shared room\n",
        "\n",
        "**price**:price per night\n",
        "\n",
        "**minimum_nights**:minimum nights customer stay\n",
        "\n",
        "**number_of_reviews**:number of total review received\n",
        "\n",
        "**last_review**:last review received on property\n",
        "\n",
        "**reviews_per_month**:per month how many reveiw received\n",
        "\n",
        "**calculated_host_listings_count**:listing of property on airbnb\n",
        "\n",
        "**availability_365:**:how much room available over all year"
      ],
      "metadata": {
        "id": "aJV4KIxSnxay"
      }
    },
    {
      "cell_type": "markdown",
      "source": [
        "### Check Unique Values for each variable."
      ],
      "metadata": {
        "id": "u3PMJOP6ngxN"
      }
    },
    {
      "cell_type": "code",
      "source": [
        "airbnb_df.nunique()"
      ],
      "metadata": {
        "id": "zms12Yq5n-jE"
      },
      "execution_count": null,
      "outputs": []
    },
    {
      "cell_type": "markdown",
      "source": [
        "## 3. ***Data Wrangling***"
      ],
      "metadata": {
        "id": "dauF4eBmngu3"
      }
    },
    {
      "cell_type": "markdown",
      "source": [
        "### Data Wrangling Code"
      ],
      "metadata": {
        "id": "bKJF3rekwFvQ"
      }
    },
    {
      "cell_type": "markdown",
      "source": [
        "**Question 1:**\n",
        "\"How many unique neighborhoods are there in total across all neighborhood groups in the dataset?\""
      ],
      "metadata": {
        "id": "RpRjt1UysWTd"
      }
    },
    {
      "cell_type": "code",
      "source": [
        "neigh_df=airbnb_df.groupby(\"neighbourhood_group\")[\"neighbourhood\"].nunique()\n",
        "print(\"Total neighbourhood :\",sum(neigh_df))\n",
        "df1=pd.DataFrame(neigh_df).reset_index()\n",
        "df1"
      ],
      "metadata": {
        "id": "-aZjs8IwsV3g"
      },
      "execution_count": null,
      "outputs": []
    },
    {
      "cell_type": "markdown",
      "source": [
        "**Question 2:**How many reveiwes received by customer as per each listing?"
      ],
      "metadata": {
        "id": "uW6BCGbStIgX"
      }
    },
    {
      "cell_type": "code",
      "source": [
        "review_list=airbnb_df.groupby(\"room_type\")[\"number_of_reviews\"].count()\n",
        "df2=pd.DataFrame(review_list)\n",
        "df2"
      ],
      "metadata": {
        "id": "wk-9a2fpoLcV"
      },
      "execution_count": null,
      "outputs": []
    },
    {
      "cell_type": "markdown",
      "source": [
        "**Question 3:** Find the host with the highest number of listings available in year,and compare with number of reviews and minimum nights?"
      ],
      "metadata": {
        "id": "zb3OPoeyuG2o"
      }
    },
    {
      "cell_type": "code",
      "source": [
        "df3 = airbnb_df.groupby(\"host_name\").agg({\"availability_365\":\"max\",\"number_of_reviews\":\"sum\",\"minimum_nights\":\"sum\"}).sort_values(by=\"number_of_reviews\",ascending=False).reset_index().head(10)\n",
        "df3"
      ],
      "metadata": {
        "id": "qAgo6FDguQHt"
      },
      "execution_count": null,
      "outputs": []
    },
    {
      "cell_type": "markdown",
      "source": [
        "**Question 4** :\n",
        "Which host has the most listings in the dataset, and how many listings do they have?\n",
        "\n",
        "\n",
        "\n"
      ],
      "metadata": {
        "id": "l0VKxTlOvYK_"
      }
    },
    {
      "cell_type": "code",
      "source": [
        "df4=airbnb_df.groupby(\"host_name\").agg({\"calculated_host_listings_count\":\"sum\"}).sort_values(by=\"calculated_host_listings_count\",ascending=False).head()\n",
        "df4"
      ],
      "metadata": {
        "id": "YvDzVgRavpdd"
      },
      "execution_count": null,
      "outputs": []
    },
    {
      "cell_type": "markdown",
      "source": [
        "**Question 5:** What are the top 10 neighborhood groups and neighborhoods that have the highest average price and the highest total number of reviews in the dataset?\""
      ],
      "metadata": {
        "id": "vJm6GLFRwr9d"
      }
    },
    {
      "cell_type": "code",
      "source": [
        "df5=airbnb_df.groupby([\"neighbourhood\",\"neighbourhood_group\"]).agg({\"price\":\"mean\",\"number_of_reviews\":\"mean\"}).sort_values(by=[\"price\"],ascending=False).head(10)\n",
        "df5\n"
      ],
      "metadata": {
        "id": "bOoMHsaXx7mM"
      },
      "execution_count": null,
      "outputs": []
    },
    {
      "cell_type": "markdown",
      "source": [
        "**Question 6:**Calculate the total number of reviews and average review per neighborhood?"
      ],
      "metadata": {
        "id": "MxFzkEV2FS-P"
      }
    },
    {
      "cell_type": "code",
      "source": [
        "df6 =airbnb_df.groupby('neighbourhood').agg({'number_of_reviews':\"sum\",\"reviews_per_month\":\"mean\"}).reset_index().head()\n",
        "df6"
      ],
      "metadata": {
        "id": "A9TT1aEuEmla"
      },
      "execution_count": null,
      "outputs": []
    },
    {
      "cell_type": "markdown",
      "source": [
        "**Question 7:** Create a new column that categorizes listings into three price tiers: \"Low,\" \"Medium,\" and \"High\" based on their price and compare average price and avg host listing count as per value catagory."
      ],
      "metadata": {
        "id": "YCxQQZPsyOGV"
      }
    },
    {
      "cell_type": "code",
      "source": [
        "def price_categ(value):\n",
        "  if value<=100:\n",
        "    return \"Low\"\n",
        "  elif value<=180:\n",
        "    return \"Medium\"\n",
        "  else:\n",
        "    return \"High\"\n",
        "\n",
        "value=int(input(\"enter value\"))\n",
        "\n",
        "result=price_categ(value)\n",
        "print(result)\n"
      ],
      "metadata": {
        "id": "P7xNTm1fym6v"
      },
      "execution_count": null,
      "outputs": []
    },
    {
      "cell_type": "code",
      "source": [
        "airbnb_df[\"value_cat\"] = airbnb_df.apply(lambda x: price_categ(x[\"price\"]), axis=1)\n",
        "\n",
        "# Create a new DataFrame df4 with just the \"price\" and \"value_cat\" columns\n",
        "df7 = airbnb_df.groupby(\"value_cat\").agg({\"price\":\"mean\",\"calculated_host_listings_count\":\"mean\"})\n",
        "df7"
      ],
      "metadata": {
        "id": "E-Ms6TbgynsN"
      },
      "execution_count": null,
      "outputs": []
    },
    {
      "cell_type": "markdown",
      "source": [
        "**Question 8:****Calculate nighbourhood with average price?"
      ],
      "metadata": {
        "id": "BhPsdvquDqvx"
      }
    },
    {
      "cell_type": "code",
      "source": [
        "df8 = airbnb_df.groupby(\"neighbourhood_group\")[\"price\"].mean().reset_index()\n",
        "df8"
      ],
      "metadata": {
        "id": "BaXBjTg4DrhS"
      },
      "execution_count": null,
      "outputs": []
    },
    {
      "cell_type": "markdown",
      "source": [
        "**Question 9:** What is the average minimum number of nights required for a booking in each neighborhood group?"
      ],
      "metadata": {
        "id": "UdKWGrQ9ziwF"
      }
    },
    {
      "cell_type": "code",
      "source": [
        "ert = airbnb_df.groupby([\"neighbourhood_group\", \"room_type\"])[\"minimum_nights\"].mean().reset_index()\n",
        "df9= ert.set_index([\"neighbourhood_group\", \"room_type\"])\n",
        "df9"
      ],
      "metadata": {
        "id": "P1dPbD8lzvuN"
      },
      "execution_count": null,
      "outputs": []
    },
    {
      "cell_type": "markdown",
      "source": [
        "***Question 10:*** What is the sum of room nights as per Airbnb listings in the dataset?"
      ],
      "metadata": {
        "id": "ATj5wEzK0cWd"
      }
    },
    {
      "cell_type": "code",
      "source": [
        "room_booking=airbnb_df.groupby(\"room_type\")[\"minimum_nights\"].sum()\n",
        "df10=pd.DataFrame(room_booking)\n",
        "df10"
      ],
      "metadata": {
        "id": "9tWW8DhJ0pCL"
      },
      "execution_count": null,
      "outputs": []
    },
    {
      "cell_type": "markdown",
      "source": [
        "**Question 11:**how the number of reviews has changed over the years and whether there are any notable trends or patterns?"
      ],
      "metadata": {
        "id": "fe6aVS0V13Sz"
      }
    },
    {
      "cell_type": "code",
      "source": [
        "# Convert 'last_review' column to datetime format\n",
        "airbnb_df['last_review'] = pd.to_datetime(airbnb_df['last_review'])\n",
        "\n",
        "# Extract year and month from the 'last_review' column\n",
        "airbnb_df['year'] = airbnb_df['last_review'].dt.year\n",
        "airbnb_df['month'] =airbnb_df['last_review'].dt.month\n",
        "\n",
        "# Group by year and month and count the number of reviews\n",
        "df11 =airbnb_df.groupby(['year', 'month']).size().reset_index(name='review_count')\n",
        "df11"
      ],
      "metadata": {
        "id": "pop2aKAa0-Zt"
      },
      "execution_count": null,
      "outputs": []
    },
    {
      "cell_type": "markdown",
      "source": [
        "**Question 12:**Calculate booking percentage and how to create a histogram and a scatter plot for comparing two numerical columns, 'price' and 'number_of_reviews'.\n"
      ],
      "metadata": {
        "id": "g6Wk-OWB2Pi0"
      }
    },
    {
      "cell_type": "code",
      "source": [
        "airbnb_df[\"Booking Percentage\"]=(airbnb_df[\"minimum_nights\"]/airbnb_df[\"availability_365\"])*100\n",
        "airbnb_df[\"Booking Percentage\"].replace(np.inf, 0, inplace=True)\n",
        "airbnb_df.head()[[\"minimum_nights\",\"availability_365\",\"Booking Percentage\",]].head()\n",
        "\n"
      ],
      "metadata": {
        "id": "oYAA53F62Bbn"
      },
      "execution_count": null,
      "outputs": []
    },
    {
      "cell_type": "markdown",
      "source": [
        "**Question 13**:Identify the top 5 property name as per nighbourhood lowest price and hightest reviews?"
      ],
      "metadata": {
        "id": "_9PePlhP23Dq"
      }
    },
    {
      "cell_type": "code",
      "source": [
        "filtered_listings = airbnb_df[airbnb_df['minimum_nights'] <= 2]\n",
        "\n",
        "average_price_by_neighborhood = filtered_listings.groupby('neighbourhood').agg({\"price\": \"mean\", \"number_of_reviews\": \"max\"}).sort_values(\"number_of_reviews\",ascending=False)\n",
        "df13= average_price_by_neighborhood.reset_index().head()\n",
        "df13"
      ],
      "metadata": {
        "id": "NddkMdgd29Js"
      },
      "execution_count": null,
      "outputs": []
    },
    {
      "cell_type": "markdown",
      "source": [
        "**Question14:** Create new column \"calculate turnover\" and find out top 3 host as per that?"
      ],
      "metadata": {
        "id": "ia3G37gGDlSr"
      }
    },
    {
      "cell_type": "code",
      "source": [
        "airbnb_df[\"total_turnover\"] =airbnb_df['price'].sum()\n",
        "\n",
        "df14 = airbnb_df.sort_values('total_turnover', ascending=False)[[\"host_name\",\"total_turnover\"]]\n",
        "df14.head()"
      ],
      "metadata": {
        "id": "Gl9XubsiDko3"
      },
      "execution_count": null,
      "outputs": []
    },
    {
      "cell_type": "markdown",
      "source": [
        "### What all manipulations have you done and insights you found?"
      ],
      "metadata": {
        "id": "MSa1f5Uengrz"
      }
    },
    {
      "cell_type": "markdown",
      "source": [
        "\n",
        "● Entire home/apt have high number of reviews and Shared room have less so host should be work on review of shared room.\n",
        "●Michael having large number of booking and reviwes also.\n",
        "\n",
        "●With high price we have 17.74% listing.\n",
        "● Customers pay highest amount in Staten Island\n",
        "and Manhattan that is $800 .\n",
        "● Top three host base on their turnover is John\tMarc & Youna,Rachel."
      ],
      "metadata": {
        "id": "LbyXE7I1olp8"
      }
    },
    {
      "cell_type": "markdown",
      "source": [
        "## ***4. Data Vizualization, Storytelling & Experimenting with charts : Understand the relationships between variables***"
      ],
      "metadata": {
        "id": "GF8Ens_Soomf"
      }
    },
    {
      "cell_type": "markdown",
      "source": [
        "#### Chart - 1"
      ],
      "metadata": {
        "id": "0wOQAZs5pc--"
      }
    },
    {
      "cell_type": "markdown",
      "source": [
        "**Question 1:**\n",
        "\"How many unique neighborhoods are there in total across all neighborhood groups in the dataset?\""
      ],
      "metadata": {
        "id": "lZVyt77mEEgP"
      }
    },
    {
      "cell_type": "code",
      "source": [
        "neigh_df=airbnb_df.groupby(\"neighbourhood_group\")[\"neighbourhood\"].nunique()\n",
        "print(\"Total neighbourhood :\",sum(neigh_df))\n",
        "df1=pd.DataFrame(neigh_df).reset_index()\n",
        "df1"
      ],
      "metadata": {
        "id": "ClmP3pWmD5zX"
      },
      "execution_count": null,
      "outputs": []
    },
    {
      "cell_type": "code",
      "source": [
        "import matplotlib.pyplot as plt\n",
        "plt.bar(df1[\"neighbourhood_group\"], df1['neighbourhood'], color='skyblue')\n",
        "plt.xlabel('Neighbourhood Group')\n",
        "plt.ylabel('Count of Unique Neighborhoods')\n",
        "plt.title('Unique Neighborhoods Across Neighborhood Groups')\n",
        "\n",
        "plt.show()"
      ],
      "metadata": {
        "id": "7v_ESjsspbW7"
      },
      "execution_count": null,
      "outputs": []
    },
    {
      "cell_type": "markdown",
      "source": [
        "##### 1. Why did you pick the specific chart?"
      ],
      "metadata": {
        "id": "K5QZ13OEpz2H"
      }
    },
    {
      "cell_type": "markdown",
      "source": [
        "My first question is How many unique neighborhoods are there in total across all neighborhood groups in the dataset? in these question we find out that which neighborhood group has the most or least unique neighborhoods,and for these bar chart is perfect for visualization.Each bar in the bar chart represents a different neighborhood group. The bars can be categorized into distinct neighborhood groups, which makes it easy to visually compare the number of unique neighborhoods in each group."
      ],
      "metadata": {
        "id": "XESiWehPqBRc"
      }
    },
    {
      "cell_type": "markdown",
      "source": [
        "##### 2. What is/are the insight(s) found from the chart?"
      ],
      "metadata": {
        "id": "lQ7QKXXCp7Bj"
      }
    },
    {
      "cell_type": "markdown",
      "source": [
        "1.Comparing Different Parts of the City\n",
        "\n",
        "2.Identifying the Most Unique Neighborhoods.\n",
        "\n",
        "3.As per stack holder we can check which area has large number of hotels.\n",
        "\n",
        "4.As per customer we should take decision that which are we found extra option for accomdation."
      ],
      "metadata": {
        "id": "C_j1G7yiqdRP"
      }
    },
    {
      "cell_type": "markdown",
      "source": [
        "##### 3. Will the gained insights help creating a positive business impact?\n",
        "Are there any insights that lead to negative growth? Justify with specific reason."
      ],
      "metadata": {
        "id": "448CDAPjqfQr"
      }
    },
    {
      "cell_type": "markdown",
      "source": [
        "##### 3. Will the gained insights help creating a positive business impact?\n",
        "Are there any insights that lead to negative growth? Justify with specific reason."
      ],
      "metadata": {
        "id": "3cspy4FjqxJW"
      }
    },
    {
      "cell_type": "markdown",
      "source": [
        "As I mentioned that  acoording to data and chart if we are airbnb stack holder we can we can find out that area has large number of property and and if any area have low number of properties then we can tieup with more properties and avoide centralization in specific Neighborhoods."
      ],
      "metadata": {
        "id": "c1Ge0gvaEjpW"
      }
    },
    {
      "cell_type": "markdown",
      "source": [
        "#### Chart - 2"
      ],
      "metadata": {
        "id": "KSlN3yHqYklG"
      }
    },
    {
      "cell_type": "markdown",
      "source": [
        "Question 2:How many reveiwes received by customer as per each listing?"
      ],
      "metadata": {
        "id": "6xsZ28keE4Tu"
      }
    },
    {
      "cell_type": "code",
      "source": [
        "review_list=airbnb_df.groupby(\"room_type\")[\"number_of_reviews\"].count()\n",
        "df2=pd.DataFrame(review_list)\n",
        "df2"
      ],
      "metadata": {
        "id": "LvTDzeVhE4EG"
      },
      "execution_count": null,
      "outputs": []
    },
    {
      "cell_type": "code",
      "source": [
        "import matplotlib.pyplot as plt\n",
        "fig = plt.figure(figsize =(10, 7))\n",
        "\n",
        "plt.pie(df2[\"number_of_reviews\"],labels = df2.index, autopct='%1.1f%%',startangle=180,colors =[\"#ea5545\", \"#0bb4ff\", 'green'])\n",
        "plt.title('Airbnb Reviews by Room Type')\n",
        "\n",
        "# show plot\n",
        "plt.show()"
      ],
      "metadata": {
        "id": "R4YgtaqtYklH"
      },
      "execution_count": null,
      "outputs": []
    },
    {
      "cell_type": "markdown",
      "source": [
        "##### 1. Why did you pick the specific chart?"
      ],
      "metadata": {
        "id": "t6dVpIINYklI"
      }
    },
    {
      "cell_type": "markdown",
      "source": [
        "Clear Comparison: A pie chart allows you to easily compare the proportion of reviews for each room type. It's straightforward to see which room type has the most reviews and how it compares to the others.\n",
        "\n",
        "Visual Simplicity: Pie charts are visually simple and intuitive. They can quickly convey the relative sizes of categories without requiring complex data interpretation.\n",
        "\n",
        "Percentage Representation: Pie charts often include percentage labels, which can provide viewers with precise information about each category's share."
      ],
      "metadata": {
        "id": "5aaW0BYyYklI"
      }
    },
    {
      "cell_type": "markdown",
      "source": [
        "2. What is/are the insight(s) found from the chart?"
      ],
      "metadata": {
        "id": "9qMREVwOI3Ae"
      }
    },
    {
      "cell_type": "markdown",
      "source": [
        "These chart can help you make informed decisions if you're an Airbnb host or property manager. For example, if you see that \"Entire home/apt\" is the most popular room type, you might consider investing in or listing more properties of that type. Conversely, if \"Shared room\" is less popular, you might adjust your pricing or marketing strategies for those listings."
      ],
      "metadata": {
        "id": "ijmpgYnKYklI"
      }
    },
    {
      "cell_type": "markdown",
      "source": [
        "##### 3. Will the gained insights help creating a positive business impact?\n",
        "Are there any insights that lead to negative growth? Justify with specific reason."
      ],
      "metadata": {
        "id": "-JiQyfWJYklI"
      }
    },
    {
      "cell_type": "markdown",
      "source": [
        "Host prefrance: Host should be look towords shared room type review and increse maretig startegy and find out why we receive low review.\n",
        "\n",
        "Guest Preferences: The chart may provide insights into guest preferences. If certain room types consistently receive more reviews, it could indicate that guests prefer those types of accommodations."
      ],
      "metadata": {
        "id": "BcBbebzrYklV"
      }
    },
    {
      "cell_type": "markdown",
      "source": [
        "#### Chart - 3"
      ],
      "metadata": {
        "id": "EM7whBJCYoAo"
      }
    },
    {
      "cell_type": "markdown",
      "source": [
        "Question 3: Find the host with the highest number of listings available  in year,and compare with number of reviews and minimum nights?"
      ],
      "metadata": {
        "id": "gQRZ65jeE_FX"
      }
    },
    {
      "cell_type": "code",
      "source": [
        "df3 = airbnb_df.groupby(\"host_name\").agg({\"availability_365\":\"max\",\"number_of_reviews\":\"sum\",\"minimum_nights\":\"sum\"}).sort_values(by=\"number_of_reviews\",ascending=False).reset_index().head(10)\n",
        "df3"
      ],
      "metadata": {
        "id": "4SewA1qiFAlG"
      },
      "execution_count": null,
      "outputs": []
    },
    {
      "cell_type": "code",
      "source": [
        "import matplotlib.pyplot as plt\n",
        "import numpy as np\n",
        "\n",
        "# Assuming df3 is already created as mentioned in your question\n",
        "# If not, please ensure you have the dataframe as described in your question.\n",
        "\n",
        "# Filter the top 5 hosts with the highest number of reviews\n",
        "top_hosts = df3.head(5)\n",
        "\n",
        "# Define data for the chart\n",
        "host_names = top_hosts['host_name']\n",
        "reviews = top_hosts['number_of_reviews']\n",
        "minimum_nights = top_hosts['minimum_nights']\n",
        "\n",
        "# Set the width of the bars\n",
        "bar_width = 0.2\n",
        "\n",
        "# Create index values for the x-axis positions\n",
        "x = np.arange(len(host_names))\n",
        "\n",
        "# Plotting the grouped bar chart\n",
        "plt.figure(figsize=(12, 6))\n",
        "plt.bar(x, reviews, bar_width, label='Total Reviews', alpha=0.7)\n",
        "plt.bar(x + bar_width, minimum_nights, bar_width, label='Total Minimum Nights', alpha=0.7)\n",
        "\n",
        "# Customize the plot\n",
        "plt.xlabel('Host Names')\n",
        "plt.ylabel('Count')\n",
        "plt.title('Host Metrics Comparison (Top 5 Hosts by Number of Reviews)')\n",
        "plt.xticks(x, host_names, rotation=45, ha='right')\n",
        "plt.legend()\n",
        "plt.tight_layout()\n",
        "plt.show()"
      ],
      "metadata": {
        "id": "uUKP6EnUJYyR"
      },
      "execution_count": null,
      "outputs": []
    },
    {
      "cell_type": "markdown",
      "source": [
        "1. Why did you pick the specific chart?"
      ],
      "metadata": {
        "id": "fge-S5ZAYoAp"
      }
    },
    {
      "cell_type": "markdown",
      "source": [
        "1.\"Host Name\" is a categorical variable, and bar charts are commonly used to display categorical data. Each bar represents a different host, making it easy to compare the with number of reviews and minimun night booking  between hosts.\n"
      ],
      "metadata": {
        "id": "5dBItgRVYoAp"
      }
    },
    {
      "cell_type": "markdown",
      "source": [
        "##### 2. What is/are the insight(s) found from the chart?"
      ],
      "metadata": {
        "id": "85gYPyotYoAp"
      }
    },
    {
      "cell_type": "markdown",
      "source": [
        "1. Hosts with the Most Reviews and highest booking.\n",
        "2. Number of Reviews Distribution"
      ],
      "metadata": {
        "id": "4jstXR6OYoAp"
      }
    },
    {
      "cell_type": "markdown",
      "source": [
        "##### 3. Will the gained insights help creating a positive business impact?\n",
        "Are there any insights that lead to negative growth? Justify with specific reason."
      ],
      "metadata": {
        "id": "RoGjAbkUYoAp"
      }
    },
    {
      "cell_type": "markdown",
      "source": [
        "Yes if we check any host receive low number on reveiw then we can increse Marketing and Promotion,Improving Host Performance,price distribution."
      ],
      "metadata": {
        "id": "zfJ8IqMcYoAp"
      }
    },
    {
      "cell_type": "markdown",
      "source": [
        "#### Chart - 4"
      ],
      "metadata": {
        "id": "4Of9eVA-YrdM"
      }
    },
    {
      "cell_type": "markdown",
      "source": [
        "**Question 4 **: Which host has the most listings in the dataset, and how many listings do they have?"
      ],
      "metadata": {
        "id": "AXkeedYsSPZJ"
      }
    },
    {
      "cell_type": "code",
      "source": [
        "df4=airbnb_df.groupby(\"host_name\").agg({\"calculated_host_listings_count\":\"sum\"}).sort_values(by=\"calculated_host_listings_count\",ascending=False).head()\n",
        "df4"
      ],
      "metadata": {
        "id": "Y0kOBx3ySPLV"
      },
      "execution_count": null,
      "outputs": []
    },
    {
      "cell_type": "code",
      "source": [
        "import matplotlib.pyplot as plt\n",
        "host_names = df4.index\n",
        "plt.figure(figsize=(8, 8))\n",
        "plt.pie(df4['calculated_host_listings_count'], labels=host_names, autopct='%1.1f%%', startangle=180)\n",
        "plt.title('Top 5 Hosts by Total Calculated Host Listings Count')\n",
        "plt.axis('equal')\n",
        "plt.show()"
      ],
      "metadata": {
        "id": "irlUoxc8YrdO"
      },
      "execution_count": null,
      "outputs": []
    },
    {
      "cell_type": "markdown",
      "source": [
        "##### 1. Why did you pick the specific chart?"
      ],
      "metadata": {
        "id": "iky9q4vBYrdO"
      }
    },
    {
      "cell_type": "markdown",
      "source": [
        " 1.Pie charts are effective for showing the proportion of individual parts in relation to the whole. In your dataset, you wanted to visualize the contribution of each host's calculated host listings count to the total count. A pie chart is well-suited for this purpose because it shows how each part (each host) contributes to the whole (the total count).\n",
        "\n",
        " 2.Simplicity and Clarity"
      ],
      "metadata": {
        "id": "aJRCwT6DYrdO"
      }
    },
    {
      "cell_type": "markdown",
      "source": [
        "##### 2. What is/are the insight(s) found from the chart?"
      ],
      "metadata": {
        "id": "F6T5p64dYrdO"
      }
    },
    {
      "cell_type": "markdown",
      "source": [
        "1.Contribution of Top Hosts\n",
        "\n",
        "2.Comparison of Hosts\n",
        "\n",
        "3.Percentage Labels"
      ],
      "metadata": {
        "id": "Xx8WAJvtYrdO"
      }
    },
    {
      "cell_type": "markdown",
      "source": [
        "##### 3. Will the gained insights help creating a positive business impact?\n",
        "Are there any insights that lead to negative growth? Justify with specific reason."
      ],
      "metadata": {
        "id": "y-Ehk30pYrdP"
      }
    },
    {
      "cell_type": "markdown",
      "source": [
        "The insights from the pie chart can provide valuable information for business decision-making. Positive impacts can be achieved through recognition, strategic partnerships, and enhancing customer experiences. However, there are also potential negative impacts related to dependency on a small number of hosts, market imbalances, and quality control challenges. To mitigate potential negative outcomes, a platform should consider strategies to diversify its host base, implement quality assurance measures, and maintain a balanced marketplace while still recognizing and rewarding top-performing hosts."
      ],
      "metadata": {
        "id": "jLNxxz7MYrdP"
      }
    },
    {
      "cell_type": "markdown",
      "source": [
        "#### Chart - 5"
      ],
      "metadata": {
        "id": "bamQiAODYuh1"
      }
    },
    {
      "cell_type": "markdown",
      "source": [
        "**Question 5:**What are the top 10 neighborhood groups and neighborhoods that have the highest average price and the highest total number of reviews in the dataset?\""
      ],
      "metadata": {
        "id": "LmbaVGkTcrCz"
      }
    },
    {
      "cell_type": "code",
      "source": [
        "df5=airbnb_df.groupby([\"neighbourhood\",\"neighbourhood_group\"]).agg({\"price\":\"mean\",\"number_of_reviews\":\"mean\"}).sort_values(by=[\"price\"],ascending=False).head(10)\n",
        "df5"
      ],
      "metadata": {
        "id": "aRMS82iVbjkK"
      },
      "execution_count": null,
      "outputs": []
    },
    {
      "cell_type": "code",
      "source": [
        "import matplotlib.pyplot as plt\n",
        "import seaborn as sns\n",
        "\n",
        "plt.figure(figsize=(10, 6))\n",
        "sns.scatterplot(data=df5.reset_index(), x=\"price\", y=\"number_of_reviews\", hue=\"neighbourhood_group\")\n",
        "plt.title(\"Scatter Plot of Price vs. Number of Reviews (Top 10 Neighbourhoods)\")\n",
        "plt.xlabel(\"Average Price\")\n",
        "plt.ylabel(\"Average Number of Reviews\")\n",
        "plt.show()"
      ],
      "metadata": {
        "id": "e5FiqSuGK4VD"
      },
      "execution_count": null,
      "outputs": []
    },
    {
      "cell_type": "markdown",
      "source": [
        "The scatterplot is chosen because it effectively conveys the relationships between the specified variables and allows for the visualization of how different neighborhood groups compare in terms of Airbnb price and the number of reviews, making it a suitable choice for the given data and analysis goals."
      ],
      "metadata": {
        "id": "QHF8YVU7Yuh3"
      }
    },
    {
      "cell_type": "markdown",
      "source": [
        "Answer Here."
      ],
      "metadata": {
        "id": "dcxuIMRPYuh3"
      }
    },
    {
      "cell_type": "markdown",
      "source": [
        "##### 2. What is/are the insight(s) found from the chart?"
      ],
      "metadata": {
        "id": "GwzvFGzlYuh3"
      }
    },
    {
      "cell_type": "markdown",
      "source": [
        "Price and Number of Reviews Relationship:WE can examine whether there is any visible relationship between the average Airbnb price and the average number of reviews. For example, you might observe that as prices increase, the number of reviews tends to decrease or vice versa."
      ],
      "metadata": {
        "id": "uyqkiB8YYuh3"
      }
    },
    {
      "cell_type": "markdown",
      "source": [
        " The insights gained from the scatterplot can have both positive and negative business impacts. The key is to carefully analyze the data, consider the broader business context, and use the insights to inform strategic decisions. Positive impacts can include optimized pricing and targeted marketing, while negative impacts may arise from pricing sensitivity, disparities across neighborhoods, or issues related to data quality and outliers. It's crucial to weigh the potential risks and benefits before implementing any changes to your business strategy."
      ],
      "metadata": {
        "id": "qYpmQ266Yuh3"
      }
    },
    {
      "cell_type": "markdown",
      "source": [
        "3. Will the gained insights help creating a positive business impact?"
      ],
      "metadata": {
        "id": "cGWR7LLX0RAS"
      }
    },
    {
      "cell_type": "markdown",
      "source": [
        "Price vs. Popularity: You can see how the average price relates to the average number of reviews. If there is a clear trend, such as lower-priced neighborhoods having more reviews, this insight could be used to adjust pricing strategies. For example, you might consider lowering prices in neighborhoods with fewer reviews to attract more customers.\n",
        "\n",
        "Neighborhood Segmentation: The use of different colors for different neighborhoods allows you to identify which neighborhoods perform better in terms of reviews. This can help in understanding which areas are more popular and may warrant more marketing efforts or investment."
      ],
      "metadata": {
        "id": "_WtzZ_hCYuh4"
      }
    },
    {
      "cell_type": "markdown",
      "source": [
        "#### Chart - 6"
      ],
      "metadata": {
        "id": "OH-pJp9IphqM"
      }
    },
    {
      "cell_type": "markdown",
      "source": [
        "**Question 6:**Calculate the total number of reviews and average review per neighborhood?"
      ],
      "metadata": {
        "id": "dFWUX4bgcUk9"
      }
    },
    {
      "cell_type": "code",
      "source": [
        "df6 =airbnb_df.groupby('neighbourhood').agg({'number_of_reviews':\"sum\",\"reviews_per_month\":\"mean\"}).reset_index().head()\n",
        "df6"
      ],
      "metadata": {
        "id": "nsatbRJbcUaT"
      },
      "execution_count": null,
      "outputs": []
    },
    {
      "cell_type": "code",
      "source": [
        "import matplotlib.pyplot as plt\n",
        "import seaborn as sns\n",
        "\n",
        "plt.figure(figsize=(12, 6))\n",
        "sns.set(style=\"whitegrid\")\n",
        "\n",
        "# Create a barplot for the sum of 'number_of_reviews'\n",
        "plt.subplot(1, 2, 1)\n",
        "sns.barplot(x='number_of_reviews', y='neighbourhood', data=df6, palette='viridis')\n",
        "plt.title('Total Number of Reviews by Neighbourhood')\n",
        "\n",
        "# Create a barplot for the mean of 'reviews_per_month'\n",
        "plt.subplot(1, 2, 2)\n",
        "sns.barplot(x='reviews_per_month', y='neighbourhood', data=df6, palette='viridis')\n",
        "plt.title('Mean Reviews per Month by Neighbourhood')\n",
        "\n",
        "plt.tight_layout()\n",
        "plt.show()"
      ],
      "metadata": {
        "id": "kuRf4wtuphqN"
      },
      "execution_count": null,
      "outputs": []
    },
    {
      "cell_type": "markdown",
      "source": [
        "##### 1. Why did you pick the specific chart?"
      ],
      "metadata": {
        "id": "bbFf2-_FphqN"
      }
    },
    {
      "cell_type": "markdown",
      "source": [
        "The combination of these two barplots provides a comprehensive view of how reviews are distributed across different neighborhoods, both in terms of total numbers and average monthly rates. This approach is effective for exploring and comparing these two aspects of the data within the context of neighborhood analysis."
      ],
      "metadata": {
        "id": "loh7H2nzphqN"
      }
    },
    {
      "cell_type": "markdown",
      "source": [
        "##### 2. What is/are the insight(s) found from the chart?"
      ],
      "metadata": {
        "id": "_ouA3fa0phqN"
      }
    },
    {
      "cell_type": "markdown",
      "source": [
        "1.You can identify which neighborhoods have the highest total number of reviews. These neighborhoods may be more popular among guests or have more listings on the platform.\n",
        "\n",
        "2.This chart can reveal which neighborhoods tend to have a higher average number of reviews per month, indicating a consistent level of guest activity."
      ],
      "metadata": {
        "id": "VECbqPI7phqN"
      }
    },
    {
      "cell_type": "markdown",
      "source": [
        "Theinsights gained from these charts can lead to positive business impacts if used strategically and with a balanced approach. However, there are potential pitfalls, including increased competition and neglecting other essential factors, that hosts and property owners should be aware of. It's crucial to use these insights as part of a broader strategy that takes into account all aspects of the guest experience and market dynamics to achieve sustainable growth."
      ],
      "metadata": {
        "id": "Seke61FWphqN"
      }
    },
    {
      "cell_type": "markdown",
      "source": [
        "Answer Here"
      ],
      "metadata": {
        "id": "DW4_bGpfphqN"
      }
    },
    {
      "cell_type": "markdown",
      "source": [
        "#### Chart - 7"
      ],
      "metadata": {
        "id": "PIIx-8_IphqN"
      }
    },
    {
      "cell_type": "markdown",
      "source": [
        "**Question 7:** Create a new column that categorizes listings into three price tiers: \"Low,\" \"Medium,\" and \"High\" based on their price and compare average price and avg host listing count as per value catagory."
      ],
      "metadata": {
        "id": "llEIh8U8tfUA"
      }
    },
    {
      "cell_type": "code",
      "source": [
        "def price_categ(value):\n",
        "  if value<=100:\n",
        "    return \"Low\"\n",
        "  elif value<=180:\n",
        "    return \"Medium\"\n",
        "  else:\n",
        "    return \"High\"\n",
        "\n",
        "value=int(input(\"enter value\"))\n",
        "\n",
        "result=price_categ(value)\n",
        "print(result)\n"
      ],
      "metadata": {
        "id": "35_InSYuteIP"
      },
      "execution_count": null,
      "outputs": []
    },
    {
      "cell_type": "code",
      "source": [
        "airbnb_df[\"value_cat\"] = airbnb_df.apply(lambda x: price_categ(x[\"price\"]), axis=1)\n",
        "\n",
        "# Create a new DataFrame df4 with just the \"price\" and \"value_cat\" columns\n",
        "df7 = airbnb_df.groupby(\"value_cat\").agg({\"price\":\"mean\",\"calculated_host_listings_count\":\"mean\"})\n",
        "df7"
      ],
      "metadata": {
        "id": "TUikQLt8tzem"
      },
      "execution_count": null,
      "outputs": []
    },
    {
      "cell_type": "code",
      "source": [
        "import matplotlib.pyplot as plt\n",
        "\n",
        "categories = df7.index\n",
        "mean_prices = df7['price']\n",
        "mean_host_counts = df7['calculated_host_listings_count']\n",
        "\n",
        "fig, ax1 = plt.subplots(figsize=(10, 6))\n",
        "\n",
        "# Plot the mean prices as bars\n",
        "ax1.bar(categories, mean_prices, color=\"#87bc45\", alpha=0.7, label='Mean Price')\n",
        "ax1.set_xlabel('Value Category')\n",
        "ax1.set_ylabel('Mean Price', color=\"#2e2b28\")\n",
        "ax1.tick_params('y', colors=\"#2e2b28\")\n",
        "\n",
        "# Create a second y-axis sharing the same x-axis\n",
        "ax2 = ax1.twinx()\n",
        "ax2.plot(categories, mean_host_counts, color='r', marker='o', label='Mean Host Count')\n",
        "ax2.set_ylabel('Mean Host Count', color='r')\n",
        "ax2.tick_params('y', colors='r')\n",
        "\n",
        "# Add labels, legend, and title\n",
        "plt.title('Mean Price and Mean Host Count by Value Category')\n",
        "plt.xticks(rotation=45)\n",
        "plt.legend(loc='upper left')\n",
        "\n",
        "# Display the plot\n",
        "plt.tight_layout()\n",
        "plt.show()"
      ],
      "metadata": {
        "id": "Vy0nDeW8vRG6"
      },
      "execution_count": null,
      "outputs": []
    },
    {
      "cell_type": "markdown",
      "source": [
        "##### 1. Why did you pick the specific chart?"
      ],
      "metadata": {
        "id": "t27r6nlMphqO"
      }
    },
    {
      "cell_type": "markdown",
      "source": [
        "Comparison of Multiple Categories: You have multiple value categories (e.g., \"Category 1,\" \"Category 2,\" etc.), and you want to compare two different metrics (mean price and mean host count) across these categories. A grouped bar chart allows you to see how these two metrics vary within each category and make comparisons between categories."
      ],
      "metadata": {
        "id": "iv6ro40sphqO"
      }
    },
    {
      "cell_type": "markdown",
      "source": [
        "##### 2. What is/are the insight(s) found from the chart?"
      ],
      "metadata": {
        "id": "r2jJGEOYphqO"
      }
    },
    {
      "cell_type": "markdown",
      "source": [
        "the chart provides a visual representation of how \"Mean Price\" and \"Mean Host Count\" vary across different \"Value Categories,\" allowing for initial insights and hypotheses about the data."
      ],
      "metadata": {
        "id": "Po6ZPi4hphqO"
      }
    },
    {
      "cell_type": "markdown",
      "source": [
        "##### 3. Will the gained insights help creating a positive business impact?\n",
        "Are there any insights that lead to negative growth? Justify with specific reason."
      ],
      "metadata": {
        "id": "b0JNsNcRphqO"
      }
    },
    {
      "cell_type": "markdown",
      "source": [
        "Pricing Strategy Optimization: Understanding how mean prices vary across different value categories can inform pricing strategies. For example, if the data shows that higher-priced categories have lower mean host counts, a business might decide to focus on premium offerings in those categories. Conversely, if lower-priced categories have higher host counts, the business might adopt a competitive pricing strategy to attract more hosts."
      ],
      "metadata": {
        "id": "xvSq8iUTphqO"
      }
    },
    {
      "cell_type": "markdown",
      "source": [
        "#### Chart - 8"
      ],
      "metadata": {
        "id": "BZR9WyysphqO"
      }
    },
    {
      "cell_type": "markdown",
      "source": [
        "**Question 8: **Calculate nighbourhood with average price?"
      ],
      "metadata": {
        "id": "I6WWKVj27o-G"
      }
    },
    {
      "cell_type": "code",
      "source": [
        "df8 = airbnb_df.groupby(\"neighbourhood_group\")[\"price\"].mean().reset_index()\n",
        "df8"
      ],
      "metadata": {
        "id": "TdPTWpAVphqO"
      },
      "execution_count": null,
      "outputs": []
    },
    {
      "cell_type": "code",
      "source": [
        "import matplotlib.pyplot as plt\n",
        "\n",
        "plt.figure(figsize=(10, 6))\n",
        "plt.bar(df8[\"neighbourhood_group\"], df8[\"price\"])\n",
        "plt.xlabel(\"Neighbourhood Group\")\n",
        "plt.ylabel(\"Mean Price\")\n",
        "plt.title(\"Mean Prices by Neighbourhood Group\")\n",
        "plt.xticks(rotation=45)  # Rotate x-axis labels for better readability\n",
        "plt.show()"
      ],
      "metadata": {
        "id": "QeX9lfN68Fqt"
      },
      "execution_count": null,
      "outputs": []
    },
    {
      "cell_type": "markdown",
      "source": [
        "##### 1. Why did you pick the specific chart?"
      ],
      "metadata": {
        "id": "jj7wYXLtphqO"
      }
    },
    {
      "cell_type": "markdown",
      "source": [
        "Comparison of Categories: Bar charts are excellent for comparing categories (in this case, neighborhood groups) and their corresponding values (mean prices). Each bar represents a distinct category, making it easy to see how the mean prices differ between neighborhood groups.\n",
        "\n",
        "Clarity: Bar charts provide a clear and concise visual representation of the data. It's easy to read and interpret, even for individuals who may not be familiar with data visualization techniques."
      ],
      "metadata": {
        "id": "Ob8u6rCTphqO"
      }
    },
    {
      "cell_type": "markdown",
      "source": [
        "##### 2. What is/are the insight(s) found from the chart?"
      ],
      "metadata": {
        "id": "eZrbJ2SmphqO"
      }
    },
    {
      "cell_type": "markdown",
      "source": [
        "Price Variability: You can easily see which neighborhood groups tend to have higher or lower mean prices. The differences in bar heights represent the variations in average prices across the different groups.\n",
        "\n",
        "Expensive Neighborhoods: Identify the neighborhood groups with the highest mean prices. These are likely to be considered more upscale or expensive areas for Airbnb listings.\n",
        "\n",
        "Affordable Neighborhoods: Conversely, you can also identify the neighborhood groups with the lowest mean prices. These may be considered more budget-friendly areas for Airbnb stays.\n",
        "\n",
        "Price Range: The chart allows you to see the range of mean prices across all neighborhood groups, helping you understand the overall distribution of prices in the dataset."
      ],
      "metadata": {
        "id": "mZtgC_hjphqO"
      }
    },
    {
      "cell_type": "markdown",
      "source": [
        "3. Will the gained insights help creating a positive business impact?\n",
        "Are there any insights that lead to negative growth? Justify with specific reason."
      ],
      "metadata": {
        "id": "UqlGYIg32TpO"
      }
    },
    {
      "cell_type": "markdown",
      "source": [
        "Positive Business Impact:\n",
        "\n",
        "Identifying Profitable Markets: If the chart reveals that certain neighborhood groups consistently have higher average prices, this insight can help businesses focus their marketing and sales efforts on those areas, potentially leading to increased revenue and profitability.\n",
        "\n",
        "Negative Growth Scenarios:\n",
        "\n",
        "Overpricing: If the chart highlights that a business has been consistently charging higher prices in neighborhoods where competitors offer similar products or services at lower prices, this can lead to a negative impact. Customers in those neighborhoods may choose competitors over the business, resulting in lost sales and market share"
      ],
      "metadata": {
        "id": "rFu4xreNphqO"
      }
    },
    {
      "cell_type": "markdown",
      "source": [
        "#### Chart - 9"
      ],
      "metadata": {
        "id": "YJ55k-q6phqO"
      }
    },
    {
      "cell_type": "markdown",
      "source": [
        "**Question 9:** What is the average minimum number of nights required for a booking in each neighborhood group?"
      ],
      "metadata": {
        "id": "ZBp_p-qr-nKv"
      }
    },
    {
      "cell_type": "code",
      "source": [
        "ert = airbnb_df.groupby([\"neighbourhood_group\", \"room_type\"])[\"minimum_nights\"].mean().reset_index()\n",
        "df9= ert.set_index([\"neighbourhood_group\", \"room_type\"])\n",
        "df9"
      ],
      "metadata": {
        "id": "8zEMHVIu-n6f"
      },
      "execution_count": null,
      "outputs": []
    },
    {
      "cell_type": "code",
      "source": [
        "import seaborn as sns\n",
        "import matplotlib.pyplot as plt\n",
        "\n",
        "# Assuming df2 is already prepared as you mentioned\n",
        "heatmap_data = df9.pivot_table(values=\"minimum_nights\", index=\"neighbourhood_group\", columns=\"room_type\")\n",
        "\n",
        "plt.figure(figsize=(10, 6))\n",
        "sns.heatmap(heatmap_data, annot=True, cmap=\"YlGnBu\")\n",
        "plt.title(\"Mean Minimum Nights by Neighbourhood Group and Room Type\")\n",
        "plt.xlabel(\"Room Type\")\n",
        "plt.ylabel(\"Neighbourhood Group\")\n",
        "plt.show()"
      ],
      "metadata": {
        "id": "B2aS4O1ophqO"
      },
      "execution_count": null,
      "outputs": []
    },
    {
      "cell_type": "markdown",
      "source": [
        "##### 1. Why did you pick the specific chart?"
      ],
      "metadata": {
        "id": "gCFgpxoyphqP"
      }
    },
    {
      "cell_type": "markdown",
      "source": [
        " Heatmap is a suitable choice for displaying the mean minimum nights for different combinations of \"neighbourhood_group\" and \"room_type\" because it effectively conveys this information in a visually appealing and informative manner."
      ],
      "metadata": {
        "id": "TVxDimi2phqP"
      }
    },
    {
      "cell_type": "markdown",
      "source": [
        "##### 2. What is/are the insight(s) found from the chart?"
      ],
      "metadata": {
        "id": "OVtJsKN_phqQ"
      }
    },
    {
      "cell_type": "markdown",
      "source": [
        "Variations: Heatmaps can help identify spatial variations in minimum nights. You may notice that certain neighborhoods have consistently higher or lower minimum nights across all room types. This information can be useful for property owners or renters.\n",
        "\n",
        "omparative Analysis: By comparing the colors in different cells, you can easily identify which \"neighbourhood_group\" or \"room_type\" combinations have the longest or shortest minimum nights. This could be valuable for market research or property management decisions."
      ],
      "metadata": {
        "id": "ngGi97qjphqQ"
      }
    },
    {
      "cell_type": "markdown",
      "source": [
        "##### 3. Will the gained insights help creating a positive business impact?\n",
        "Are there any insights that lead to negative growth? Justify with specific reason."
      ],
      "metadata": {
        "id": "lssrdh5qphqQ"
      }
    },
    {
      "cell_type": "markdown",
      "source": [
        "Positive Business Impacts:\n",
        "\n",
        "Optimized Pricing: If you find that certain \"room_type\" categories have significantly higher minimum nights in specific \"neighbourhood_group\" areas, you can adjust your pricing strategy accordingly. Lowering prices for rooms with longer minimum night requirements in less popular neighborhoods could attract more bookings.\n",
        "\n",
        "Targeted Marketing: You can use the insights to tailor your marketing efforts. For example, if you notice that a particular \"room_type\" is in high demand in a specific neighborhood, you can create targeted marketing campaigns to promote those listings.\n",
        "\n",
        "\n",
        "Negative Business Impacts:\n",
        "\n",
        "Overpricing: Misinterpreting the heatmap could lead to overpricing rooms in areas with lower demand or longer minimum nights. This might discourage potential guests and result in lower occupancy rates."
      ],
      "metadata": {
        "id": "tBpY5ekJphqQ"
      }
    },
    {
      "cell_type": "markdown",
      "source": [
        "#### Chart - 10"
      ],
      "metadata": {
        "id": "U2RJ9gkRphqQ"
      }
    },
    {
      "cell_type": "code",
      "source": [
        "room_booking=airbnb_df.groupby(\"room_type\")[\"minimum_nights\"].sum()\n",
        "df10=pd.DataFrame(room_booking)\n",
        "df10"
      ],
      "metadata": {
        "id": "S-PNOyMJUxd3"
      },
      "execution_count": null,
      "outputs": []
    },
    {
      "cell_type": "code",
      "source": [
        "import matplotlib.pyplot as plt\n",
        "\n",
        "# Create a bar chart\n",
        "plt.figure(figsize=(8, 6))  # Adjust the figure size as needed\n",
        "plt.bar(df10.index, df10['minimum_nights'],color=\"#9080ff\")\n",
        "plt.xlabel('Room Type')\n",
        "plt.ylabel('Total Minimum Nights')\n",
        "plt.title('Total Minimum Nights by Room Type')\n",
        "\n",
        "\n",
        "# Show the plot\n",
        "plt.tight_layout()\n",
        "plt.show()"
      ],
      "metadata": {
        "id": "GM7a4YP4phqQ"
      },
      "execution_count": null,
      "outputs": []
    },
    {
      "cell_type": "markdown",
      "source": [
        "##### 1. Why did you pick the specific chart?"
      ],
      "metadata": {
        "id": "1M8mcRywphqQ"
      }
    },
    {
      "cell_type": "markdown",
      "source": [
        "Categorical Data: Room types are categorical data, and a pie chart is well-suited for showing the distribution of a single categorical variable. Each slice of the pie represents a room type, and the size of each slice corresponds to the proportion of minimum nights associated with that room type.\n",
        "\n",
        "Simple Comparison: Pie charts are effective for showing the relative proportions of categories in a dataset. In this case, you can quickly see which room types have a larger or smaller share of minimum nights."
      ],
      "metadata": {
        "id": "8agQvks0phqQ"
      }
    },
    {
      "cell_type": "markdown",
      "source": [
        "##### 2. What is/are the insight(s) found from the chart?"
      ],
      "metadata": {
        "id": "tgIPom80phqQ"
      }
    },
    {
      "cell_type": "markdown",
      "source": [
        "1.Categorical Data: Bar charts are well-suited for displaying and comparing categorical data, such as different room types in this case. Each category (room type) is represented by a separate bar.\n",
        "\n",
        "2.Comparison: Bar charts make it easy to compare the values of different categories. In your code, you are comparing the total minimum nights for different room types, which can be effectively communicated through a bar chart."
      ],
      "metadata": {
        "id": "Qp13pnNzphqQ"
      }
    },
    {
      "cell_type": "markdown",
      "source": [
        "##### 3. Will the gained insights help creating a positive business impact?\n",
        "Are there any insights that lead to negative growth? Justify with specific reason."
      ],
      "metadata": {
        "id": "JMzcOPDDphqR"
      }
    },
    {
      "cell_type": "markdown",
      "source": [
        "Positive Impact:\n",
        "1.Identifying High-Demand Room Types: If the bar chart shows that certain room types have significantly higher total minimum nights compared to others, it can help the business focus its marketing and pricing strategies on those high-demand room types. This could potentially lead to increased revenue and occupancy rates.\n",
        "\n",
        "2.Pricing Strategy: The insights from the chart may lead to adjustments in pricing strategy. If certain room types are in high demand, the business may consider increasing the prices for those rooms during peak periods to maximize revenue\n",
        "\n",
        "Negative Impact:\n",
        "\n",
        "1.Underperforming Room Types: If the bar chart reveals that some room types have consistently low total minimum nights, it might indicate that these room types are not attracting customers. This could lead to negative growth if resources continue to be allocated to these unprofitable room types."
      ],
      "metadata": {
        "id": "R4Ka1PC2phqR"
      }
    },
    {
      "cell_type": "markdown",
      "source": [
        "#### Chart - 11"
      ],
      "metadata": {
        "id": "x-EpHcCOp1ci"
      }
    },
    {
      "cell_type": "markdown",
      "source": [
        "**Question 11:**how the number of reviews has changed over the years and whether there are any notable trends or patterns?\n"
      ],
      "metadata": {
        "id": "xnmtRnHVXSy4"
      }
    },
    {
      "cell_type": "code",
      "source": [
        "# Convert 'last_review' column to datetime format\n",
        "airbnb_df['last_review'] = pd.to_datetime(airbnb_df['last_review'])\n",
        "\n",
        "# Extract year and month from the 'last_review' column\n",
        "airbnb_df['year'] = airbnb_df['last_review'].dt.year\n",
        "airbnb_df['month'] =airbnb_df['last_review'].dt.month\n",
        "\n",
        "# Group by year and month and count the number of reviews\n",
        "df11 =airbnb_df.groupby(['year', 'month']).size().reset_index(name='review_count')\n",
        "df11"
      ],
      "metadata": {
        "id": "zlYSOYM8XYzQ"
      },
      "execution_count": null,
      "outputs": []
    },
    {
      "cell_type": "code",
      "source": [
        "import matplotlib.pyplot as plt\n",
        "import pandas as pd\n",
        "\n",
        "\n",
        "# Create a line plot to visualize the frequency of reviews over time\n",
        "plt.figure(figsize=(12, 6))\n",
        "plt.plot(df11['year'], df11['review_count'], marker='o', linestyle='-', color='b')\n",
        "plt.title('Frequency of Reviews Over Time')\n",
        "plt.xlabel('Year')\n",
        "plt.ylabel('Number of Reviews')\n",
        "plt.grid(True)"
      ],
      "metadata": {
        "id": "QoAuoEvwXxBw"
      },
      "execution_count": null,
      "outputs": []
    },
    {
      "cell_type": "markdown",
      "source": [
        "##### 1. Why did you pick the specific chart?"
      ],
      "metadata": {
        "id": "X_VqEhTip1ck"
      }
    },
    {
      "cell_type": "markdown",
      "source": [
        "line plot to visualize the frequency of reviews over time because it is well-suited for showing how a numerical variable (in this case, the number of reviews) changes over a continuous time period (years and months). Here are some reasons why a line plot is a suitable choice for this type of data:"
      ],
      "metadata": {
        "id": "-vsMzt_np1ck"
      }
    },
    {
      "cell_type": "markdown",
      "source": [
        "##### 2. What is/are the insight(s) found from the chart?"
      ],
      "metadata": {
        "id": "8zGJKyg5p1ck"
      }
    },
    {
      "cell_type": "markdown",
      "source": [
        "Trend Identification: Look for overall trends in the number of reviews over the years. Is there a noticeable increase or decrease in review activity? Identifying trends can be useful for understanding how popular your listings have been over time.\n",
        "\n",
        "Seasonal Variations: Examine whether there are recurring patterns or seasonal variations in the review frequency. For example, you might see spikes in reviews during certain months, which could correspond to tourist seasons or holidays.\n",
        "\n",
        "Yearly Changes: Identify any significant changes or events in the dataset by observing abrupt shifts in the line. These changes could be due to changes in property management, marketing efforts, or external factors."
      ],
      "metadata": {
        "id": "ZYdMsrqVp1ck"
      }
    },
    {
      "cell_type": "markdown",
      "source": [
        "##### 3. Will the gained insights help creating a positive business impact?\n",
        "Are there any insights that lead to negative growth? Justify with specific reason."
      ],
      "metadata": {
        "id": "PVzmfK_Ep1ck"
      }
    },
    {
      "cell_type": "markdown",
      "source": [
        "The insights gained from analyzing review frequency over time can positively impact your business by optimizing strategies, improving operations, and capitalizing on successful periods. However, they can also reveal negative growth trends or issues that need immediate attention. It's crucial to act upon these insights proactively, addressing challenges and capitalizing on opportunities to ensure long-term success in the hospitality or property rental business."
      ],
      "metadata": {
        "id": "druuKYZpp1ck"
      }
    },
    {
      "cell_type": "markdown",
      "source": [
        "Chart - 12"
      ],
      "metadata": {
        "id": "iQH4frRsm9Xo"
      }
    },
    {
      "cell_type": "markdown",
      "source": [
        " **Question 12**Calculate booking percentage and how to create a histogram and a scatter plot for comparing two numerical columns, 'price' and 'number_of_reviews'."
      ],
      "metadata": {
        "id": "vxTDUqzSfVeW"
      }
    },
    {
      "cell_type": "code",
      "source": [
        "airbnb_df[\"Booking Percentage\"]=(airbnb_df[\"minimum_nights\"]/airbnb_df[\"availability_365\"])*100\n",
        "airbnb_df[\"Booking Percentage\"].replace(np.inf, 0, inplace=True)\n",
        "airbnb_df.head()[[\"minimum_nights\",\"availability_365\",\"Booking Percentage\",]].head()\n",
        "\n",
        "\n"
      ],
      "metadata": {
        "id": "XEt6KF12fU_t"
      },
      "execution_count": null,
      "outputs": []
    },
    {
      "cell_type": "code",
      "source": [
        "plt.figure(figsize=(12, 4))\n",
        "\n",
        "plt.subplot(1, 3, 1)\n",
        "plt.hist(airbnb_df[\"minimum_nights\"], bins=20)\n",
        "plt.xlabel(\"Minimum Nights\")\n",
        "plt.ylabel(\"Frequency\")\n",
        "plt.title(\"Distribution of Minimum Nights\")\n",
        "\n",
        "plt.subplot(1, 3, 2)\n",
        "plt.hist(airbnb_df[\"availability_365\"], bins=20)\n",
        "plt.xlabel(\"Availability 365\")\n",
        "plt.ylabel(\"Frequency\")\n",
        "plt.title(\"Distribution of Availability 365\")\n",
        "\n",
        "plt.subplot(1, 3, 3)\n",
        "plt.hist(airbnb_df[\"Booking Percentage\"], bins=20)\n",
        "plt.xlabel(\"Booking Percentage\")\n",
        "plt.ylabel(\"Frequency\")\n",
        "plt.title(\"Distribution of Booking Percentage\")\n",
        "\n",
        "plt.tight_layout()\n",
        "plt.show()"
      ],
      "metadata": {
        "id": "WCra67XIcwMe"
      },
      "execution_count": null,
      "outputs": []
    },
    {
      "cell_type": "markdown",
      "source": [
        "##### 1. Why did you pick the specific chart?"
      ],
      "metadata": {
        "id": "ylSl6qgtp1ck"
      }
    },
    {
      "cell_type": "markdown",
      "source": [
        "Histograms are valuable for understanding the distribution of individual variables. Here's why histograms are necessary:\n",
        "\n",
        "\"Minimum Nights\" Histogram: This histogram helps you see the distribution of the \"minimum_nights\" variable, which is essential to understand the typical duration required for bookings. It can reveal if there are any common values or outliers in this variable.\n",
        "\n",
        "\"Availability 365\" Histogram: This histogram provides insights into the distribution of the \"availability_365\" variable, helping you understand how often listings are available throughout the year. It can reveal patterns in availability, such as whether most listings are available year-round or only seasonally.\n",
        "\n",
        "\"Booking Percentage\" Histogram: The histogram for \"Booking Percentage\" allows you to examine the distribution of this calculated metric. It helps you understand the distribution of booking percentages across listings and identify any unusual patterns or outliers in this variable."
      ],
      "metadata": {
        "id": "m2xqNkiQp1ck"
      }
    },
    {
      "cell_type": "markdown",
      "source": [
        "##### 2. What is/are the insight(s) found from the chart?"
      ],
      "metadata": {
        "id": "ZWILFDl5p1ck"
      }
    },
    {
      "cell_type": "markdown",
      "source": [
        "The \"Minimum Nights\" histogram can reveal the most common duration required for bookings. If there's a peak at a specific value, it suggests a preferred booking duration among listings.\n",
        "The \"Availability 365\" histogram can show how frequently listings are available throughout the year. It may help identify whether most listings are available year-round or only for certain periods.\n",
        "The \"Booking Percentage\" histogram can provide insights into how booking percentages are distributed among listings. You might identify a typical range of booking percentages and whether there are any outliers with exceptionally high or low booking percentages."
      ],
      "metadata": {
        "id": "x-lUsV2mp1ck"
      }
    },
    {
      "cell_type": "markdown",
      "source": [
        "The gained insights have the potential to create a positive business impact by optimizing policies, marketing strategies, and pricing. However, there are also insights that, if not addressed or acted upon, could lead to negative growth or missed opportunities. It's essential for the business to use these insights proactively to make informed decisions and adapt its strategies to the dynamic market conditions in the hospitality industry."
      ],
      "metadata": {
        "id": "M7G43BXep1ck"
      }
    },
    {
      "cell_type": "markdown",
      "source": [
        "3.Will the gained insights help creating a positive business impact?\n",
        "Are there any insights that lead to negative growth? Justify with specific reason."
      ],
      "metadata": {
        "id": "NCSJphA44EhY"
      }
    },
    {
      "cell_type": "markdown",
      "source": [
        "insights gained from histograms can have a significant impact on a business, both positive and negative. It's essential for the business to use these insights strategically to optimize its operations, pricing, and marketing strategies to enhance revenue and overall growth while addressing any issues that may be hindering success. The specific actions taken in response to these insights will determine whether they result in positive or negative business outcomes."
      ],
      "metadata": {
        "id": "5wwDJXsLp1cl"
      }
    },
    {
      "cell_type": "markdown",
      "source": [
        "#### Chart - 13"
      ],
      "metadata": {
        "id": "Ag9LCva-p1cl"
      }
    },
    {
      "cell_type": "markdown",
      "source": [
        "**Question 13**:Identify the top 5 property name as per nighbourhood lowest price and hightest reviews?"
      ],
      "metadata": {
        "id": "-ZYQCczxn8yE"
      }
    },
    {
      "cell_type": "code",
      "source": [
        "filtered_listings = airbnb_df[airbnb_df['minimum_nights'] <= 2]\n",
        "\n",
        "average_price_by_neighborhood = filtered_listings.groupby('neighbourhood').agg({\"price\": \"mean\", \"number_of_reviews\": \"max\"}).sort_values(\"number_of_reviews\",ascending=False)\n",
        "df13= average_price_by_neighborhood.reset_index().head()\n",
        "df13"
      ],
      "metadata": {
        "id": "4dzIUZY_n-C8"
      },
      "execution_count": null,
      "outputs": []
    },
    {
      "cell_type": "code",
      "source": [
        "import matplotlib.pyplot as plt\n",
        "import numpy as np\n",
        "\n",
        "# Assuming you have the df7 DataFrame as you mentioned\n",
        "neighbourhoods = df13['neighbourhood']\n",
        "average_prices = df13['price']\n",
        "max_reviews = df13['number_of_reviews']\n",
        "\n",
        "# Set the width of the bars\n",
        "bar_width = 0.35\n",
        "\n",
        "# Create index values for the x-axis positions\n",
        "x = np.arange(len(neighbourhoods))\n",
        "\n",
        "# Plotting the grouped bar chart\n",
        "plt.figure(figsize=(12, 6))\n",
        "plt.bar(x, average_prices, bar_width, label='Average Price', alpha=0.7)\n",
        "plt.bar(x + bar_width, max_reviews, bar_width, label='Maximum Number of Reviews', alpha=0.7)\n",
        "\n",
        "# Customize the plot\n",
        "plt.xlabel('Neighbourhood')\n",
        "plt.ylabel('Value')\n",
        "plt.title('Neighbourhood Comparison (Top 5 by Maximum Number of Reviews)')\n",
        "plt.xticks(x + bar_width/2, neighbourhoods, rotation=45, ha='right')\n",
        "plt.legend()\n",
        "plt.tight_layout()\n",
        "plt.show()"
      ],
      "metadata": {
        "id": "EUfxeq9-p1cl"
      },
      "execution_count": null,
      "outputs": []
    },
    {
      "cell_type": "markdown",
      "source": [
        "##### 1. Why did you pick the specific chart?"
      ],
      "metadata": {
        "id": "E6MkPsBcp1cl"
      }
    },
    {
      "cell_type": "markdown",
      "source": [
        "It allows you to visually compare two different metrics (average price and maximum number of reviews) for each of the top 5 neighborhoods by maximum number of reviews. Here are the reasons for choosing this chart:"
      ],
      "metadata": {
        "id": "V22bRsFWp1cl"
      }
    },
    {
      "cell_type": "markdown",
      "source": [
        "##### 2. What is/are the insight(s) found from the chart?"
      ],
      "metadata": {
        "id": "2cELzS2fp1cl"
      }
    },
    {
      "cell_type": "markdown",
      "source": [
        "Neighborhoods with High Maximum Reviews.\n",
        "\n",
        "Price Variation Among Neighborhoods.\n",
        "\n",
        "Relationship Between Reviews and Prices.\n",
        "\n",
        "Differences in Popularity."
      ],
      "metadata": {
        "id": "ozQPc2_Ip1cl"
      }
    },
    {
      "cell_type": "markdown",
      "source": [
        "##### 3. Will the gained insights help creating a positive business impact?\n",
        "Are there any insights that lead to negative growth? Justify with specific reason."
      ],
      "metadata": {
        "id": "3MPXvC8up1cl"
      }
    },
    {
      "cell_type": "markdown",
      "source": [
        "The gained insights can have both positive and negative implications for a business. The key is to use these insights strategically, adjusting pricing, marketing, and customer experience efforts to capitalize on strengths and address weaknesses in a way that maximizes growth and profitability. It's important to strike a balance between offering competitive prices and providing a high-quality experience to guests in order to sustain positive business growth."
      ],
      "metadata": {
        "id": "GL8l1tdLp1cl"
      }
    },
    {
      "cell_type": "markdown",
      "source": [
        "#### Chart - 14 - Correlation Heatmap"
      ],
      "metadata": {
        "id": "NC_X3p0fY2L0"
      }
    },
    {
      "cell_type": "code",
      "source": [
        "plt.figure(figsize=(12, 8))\n",
        "corr_matrix = airbnb_df.corr()\n",
        "sns.heatmap(corr_matrix, annot=True, cmap='coolwarm')\n",
        "plt.title('Correlation Matrix for Airbnb Dataset')\n",
        "plt.show()"
      ],
      "metadata": {
        "id": "xyC9zolEZNRQ"
      },
      "execution_count": null,
      "outputs": []
    },
    {
      "cell_type": "markdown",
      "source": [
        "##### 1. Why did you pick the specific chart?"
      ],
      "metadata": {
        "id": "UV0SzAkaZNRQ"
      }
    },
    {
      "cell_type": "markdown",
      "source": [
        " Correlation Matrix: A correlation matrix is a table that shows the correlation coefficients between many variables. Heatmaps are particularly well-suited for displaying this type of data because they can efficiently represent a large amount of information in a visually intuitive way.\n",
        "\n",
        " Heatmap is a widely accepted and effective choice for visualizing correlation matrices, making it easier for data analysts and viewers to identify patterns and relationships within the data."
      ],
      "metadata": {
        "id": "DVPuT8LYZNRQ"
      }
    },
    {
      "cell_type": "markdown",
      "source": [
        "##### 2. What is/are the insight(s) found from the chart?"
      ],
      "metadata": {
        "id": "YPEH6qLeZNRQ"
      }
    },
    {
      "cell_type": "markdown",
      "source": [
        "1.Strength of Relationships:\n",
        " A correlation matrix heatmap allows you to quickly identify the strength and direction of relationships (positive or negative) between pairs of variables. Positive correlations are indicated by warmer colors (closer to red), while negative correlations are indicated by cooler colors (closer to blue).\n",
        "\n",
        "2.Highly Correlated Variables:\n",
        "You can identify pairs of variables that are highly correlated (either positively or negatively) by looking for cells in the heatmap with strong colors (either very red or very blue). This suggests that changes in one variable are associated with changes in the other."
      ],
      "metadata": {
        "id": "bfSqtnDqZNRR"
      }
    },
    {
      "cell_type": "markdown",
      "source": [
        "#### Chart - 15 - Pair Plot"
      ],
      "metadata": {
        "id": "q29F0dvdveiT"
      }
    },
    {
      "cell_type": "code",
      "source": [
        "import seaborn as sns\n",
        "import matplotlib.pyplot as plt\n",
        "\n",
        "# Select the specific columns you want for the pair plot\n",
        "selected_columns = ['price', 'minimum_nights', 'number_of_reviews','calculated_host_listings_count']\n",
        "\n",
        "# Create a pair plot for the selected columns\n",
        "sns.pairplot(data=airbnb_df[selected_columns])\n",
        "\n",
        "# Show the plots\n",
        "plt.show()"
      ],
      "metadata": {
        "id": "o58-TEIhveiU"
      },
      "execution_count": null,
      "outputs": []
    },
    {
      "cell_type": "markdown",
      "source": [
        "##### 1. Why did you pick the specific chart?"
      ],
      "metadata": {
        "id": "EXh0U9oCveiU"
      }
    },
    {
      "cell_type": "markdown",
      "source": [
        "The choice of a pair plot in this context is appropriate because it allows for a comprehensive exploration of relationships and distributions among the selected numerical variables in the Airbnb dataset."
      ],
      "metadata": {
        "id": "eMmPjTByveiU"
      }
    },
    {
      "cell_type": "markdown",
      "source": [
        "##### 2. What is/are the insight(s) found from the chart?"
      ],
      "metadata": {
        "id": "22aHeOlLveiV"
      }
    },
    {
      "cell_type": "markdown",
      "source": [
        "Scatterplots: Scatterplots in a pair plot can reveal the strength and direction of relationships between variables. For example, you can look for linear or non-linear trends in the data points. Positive or negative correlations between variables may be evident.\n",
        "\n",
        "Outliers: Outliers can be identified in scatterplots as data points that deviate significantly from the general trend. Outliers might indicate errors in the data or unusual observations."
      ],
      "metadata": {
        "id": "uPQ8RGwHveiV"
      }
    },
    {
      "cell_type": "code",
      "source": [
        "airbnb_df.columns"
      ],
      "metadata": {
        "id": "D0g-gq6wFN72"
      },
      "execution_count": null,
      "outputs": []
    },
    {
      "cell_type": "markdown",
      "source": [
        "## **5. Solution to Business Objective**"
      ],
      "metadata": {
        "id": "JcMwzZxoAimU"
      }
    },
    {
      "cell_type": "markdown",
      "source": [
        "#### What do you suggest the client to achieve Business Objective ?\n",
        "Explain Briefly."
      ],
      "metadata": {
        "id": "8G2x9gOozGDZ"
      }
    },
    {
      "cell_type": "markdown",
      "source": [
        "\n",
        "Analysis regarding property: Conduct thorough market research to understand industry trends, customer preferences, review ,listing property. This will help the client make informed decisions and identify opportunities and threats.\n",
        "\n",
        "Avoide Dependancy: If any area have less number of listing but high number of booking so client should reduce there dependancy on property and increase listing on that area.\n",
        "\n",
        "Pricing Optimization: Use the data to optimize pricing for listings based on factors like location, room type, and historical booking percentages to maximize revenue.\n",
        "\n",
        "Demand Forecasting: Predict future demand for listings in different neighborhoods to help hosts better plan for availability and pricing.\n",
        "\n",
        "Host Performance Analysis: Evaluate host performance using metrics like reviews per month, total turnover, and booking percentage to identify top-performing hosts.\n",
        "\n",
        "Neighborhood Analysis: Analyze which neighborhoods have the highest demand and the potential for growth in the short and long term.\n",
        "\n",
        "\n",
        "Marketing and Promotion: Determine which types of listings (e.g., entire homes, private rooms) are more popular and tailor marketing efforts accordingly.\n",
        "\n",
        "Host Training and Support: Identify hosts with lower booking percentages and provide them with support or training to improve their listing's performance.\n",
        "\n",
        "Customer Satisfaction: Use review data to assess customer satisfaction and make improvements based on feedback.\n"
      ],
      "metadata": {
        "id": "pASKb0qOza21"
      }
    },
    {
      "cell_type": "markdown",
      "source": [
        "# **Conclusion**"
      ],
      "metadata": {
        "id": "gCX9965dhzqZ"
      }
    },
    {
      "cell_type": "markdown",
      "source": [
        "We defined some points which can\n",
        "help airbnb in their business:\n",
        "\n",
        "● Entire home/apt have high number of reviews and Shared room have less so host should be work on review of shared room.\n",
        "\n",
        "●Michael having large number of booking and reviwes also.\n",
        "\n",
        "●With high price we have 17.74% listing.\n",
        "\n",
        "● Customers pay highest amount in Staten Island\n",
        "and Manhattan that is $800 .\n",
        "\n",
        "● Top three host base on their turnover is John\tMarc & Youna,Rachel.\n",
        "\n",
        "\n",
        "Airbnb data analysis provides valuable insights for both hosts and travelers. Hosts can use these insights to optimize their listings and maximize their income, while travelers can make more informed choices to enhance their stay. However, it's essential for all parties to consider factors such as location, price, property type, and reviews to ensure a satisfying and enjoyable Airbnb experience. Additionally, staying informed about local regulations and compliance is crucial to avoid potential issues."
      ],
      "metadata": {
        "id": "Fjb1IsQkh3yE"
      }
    },
    {
      "cell_type": "markdown",
      "source": [
        "### ***Hurrah! You have successfully completed your EDA Capstone Project !!!***"
      ],
      "metadata": {
        "id": "gIfDvo9L0UH2"
      }
    }
  ]
}